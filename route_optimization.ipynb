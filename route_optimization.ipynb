{
 "cells": [
  {
   "cell_type": "markdown",
   "id": "ddd56fcb",
   "metadata": {},
   "source": [
    "# Оптимизация путей доставки"
   ]
  },
  {
   "cell_type": "markdown",
   "id": "9353f554",
   "metadata": {},
   "source": [
    "На Wildberries существует несколько видов доставки, которые отличаются местом отправления (склад WB или склад продавца), а также местом назначения (курьером на дом или в пункт выдачи заказов — далее ПВЗ).\n",
    "\n",
    "**Задача:** показать наиболее оптимальный маршрут развоза товаров по ПВЗ со склада Wildberries в Коледино, при этом все машины должны быть загружены максимально, насколько это возможно, а стоимость перевозки линейно зависима от расстояния, которые проезжают машины. \n",
    "\n",
    "Предоставлены данные об адресах склада и ПВЗ, в которые необходимо доставить товары, а также о количестве товаров, которые нужно доставить в каждый ПВЗ, и о вместимости машин.\n",
    "\n",
    "Конечным результатом должен стать алгоритм, позволяющий предоставить оптимальный маршрут развоза товаров со склада по ПВЗ такой, что затраты по времени в пути и стоимости перевозки будут минимальными.\n",
    "\n",
    "Другими словами, если стоимость перевозки линейно зависит от расстояния и если мы считаем, что маршрут машины проедут с одинаковой скоростью, не попадут в пробку или иную непредвиденную ситуацию, то нужно найти такой маршрут, чтобы суммарная длина пути всех машин была минимальной, а их загрузка не превышала максимального допустимого значения.\n",
    "\n",
    "Представим задачу в виде ориентированного взвешенного графа $D = (V,E)$:\n",
    "- $V =$ {$v_{0}, v_{1}, ... v_{n}$} - множество вершин:\n",
    "   - $v_{0}$ - склад;\n",
    "   - $v_{1}, ... v_{n}$ - ПВЗ;\n",
    "- $E$ - множество ребер (путей) {$(v_{i}, v_{j})|i≠j$};\n",
    "- $C$ - матрица расстояний $c_{ij}$ между вершинами;\n",
    "- $m$ - количество маршрутов/ машин;\n",
    "- $R_{i}$ - маршрут i-й машины $(i = 1...m)$;\n",
    "- $C(R_{i})$ - длина i-го маршрута;\n",
    "- $q_{i}$ - количество товара, поставляемое в i-й ПВЗ $(i = 1...n)$;\n",
    "- $Q$ - вместимость машины.\n",
    "\n",
    "Тогда целевая функция примет вид:\n",
    "$$\\sum\\limits_{i=1}^m C(R_{i})→min$$\n",
    "при условии $\\sum q_{i} <= Q$\n",
    "\n",
    "**Цель работы:** разработать алгоритм, позволяющий предоставить оптимальный маршрут развоза товаров со склада по ПВЗ такой, что суммарная длина пути доставки всех машин будет минимальной, а их загрузка не превысит максимального допустимого значения.\n",
    "\n",
    "**Ход работы:**\n",
    "* первичный анализ данных и их очистка;\n",
    "* исследование проблематики, выбор подходящих решений;\n",
    "* формирование обучающей выборки, проектирование валидации;\n",
    "* разработка бейзлайна и реализация выбранного решения;\n",
    "* оценка решения, оптимизация алгоритма."
   ]
  },
  {
   "cell_type": "markdown",
   "id": "063f2743",
   "metadata": {},
   "source": [
    "## Обзор даннных"
   ]
  },
  {
   "cell_type": "code",
   "execution_count": 1,
   "id": "5b5c6412",
   "metadata": {},
   "outputs": [],
   "source": [
    "#импорт библиотек\n",
    "import pandas as pd\n",
    "import matplotlib.pyplot as plt\n",
    "import numpy as np"
   ]
  },
  {
   "cell_type": "code",
   "execution_count": 2,
   "id": "af22a4ae",
   "metadata": {
    "scrolled": true
   },
   "outputs": [
    {
     "data": {
      "text/html": [
       "<div>\n",
       "<style scoped>\n",
       "    .dataframe tbody tr th:only-of-type {\n",
       "        vertical-align: middle;\n",
       "    }\n",
       "\n",
       "    .dataframe tbody tr th {\n",
       "        vertical-align: top;\n",
       "    }\n",
       "\n",
       "    .dataframe thead th {\n",
       "        text-align: right;\n",
       "    }\n",
       "</style>\n",
       "<table border=\"1\" class=\"dataframe\">\n",
       "  <thead>\n",
       "    <tr style=\"text-align: right;\">\n",
       "      <th></th>\n",
       "      <th>count</th>\n",
       "      <th>max</th>\n",
       "      <th>max.1</th>\n",
       "      <th>dst_office_id</th>\n",
       "      <th>office_name</th>\n",
       "      <th>latitude</th>\n",
       "      <th>longitude</th>\n",
       "    </tr>\n",
       "  </thead>\n",
       "  <tbody>\n",
       "    <tr>\n",
       "      <th>0</th>\n",
       "      <td>379</td>\n",
       "      <td>2023-04-24</td>\n",
       "      <td>507</td>\n",
       "      <td>105643</td>\n",
       "      <td>МО Одинцово Садовая 24</td>\n",
       "      <td>55.676228</td>\n",
       "      <td>37.248839</td>\n",
       "    </tr>\n",
       "    <tr>\n",
       "      <th>1</th>\n",
       "      <td>249</td>\n",
       "      <td>2023-04-24</td>\n",
       "      <td>507</td>\n",
       "      <td>133447</td>\n",
       "      <td>МО Кашира Ленина 15</td>\n",
       "      <td>54.844701</td>\n",
       "      <td>38.191166</td>\n",
       "    </tr>\n",
       "    <tr>\n",
       "      <th>2</th>\n",
       "      <td>345</td>\n",
       "      <td>2023-04-24</td>\n",
       "      <td>507</td>\n",
       "      <td>110999</td>\n",
       "      <td>МО Одинцово Сколковская 1Б</td>\n",
       "      <td>55.694942</td>\n",
       "      <td>37.324654</td>\n",
       "    </tr>\n",
       "    <tr>\n",
       "      <th>3</th>\n",
       "      <td>591</td>\n",
       "      <td>2023-04-24</td>\n",
       "      <td>507</td>\n",
       "      <td>5807</td>\n",
       "      <td>Подольск Победы 12</td>\n",
       "      <td>55.360190</td>\n",
       "      <td>37.512755</td>\n",
       "    </tr>\n",
       "    <tr>\n",
       "      <th>4</th>\n",
       "      <td>322</td>\n",
       "      <td>2023-04-24</td>\n",
       "      <td>507</td>\n",
       "      <td>3300</td>\n",
       "      <td>МО Свердловский Строителей 22</td>\n",
       "      <td>55.903330</td>\n",
       "      <td>38.155216</td>\n",
       "    </tr>\n",
       "    <tr>\n",
       "      <th>5</th>\n",
       "      <td>930</td>\n",
       "      <td>2023-04-24</td>\n",
       "      <td>507</td>\n",
       "      <td>106294</td>\n",
       "      <td>МСК Генерала Белова 29</td>\n",
       "      <td>55.614762</td>\n",
       "      <td>37.721023</td>\n",
       "    </tr>\n",
       "    <tr>\n",
       "      <th>6</th>\n",
       "      <td>450</td>\n",
       "      <td>2023-04-24</td>\n",
       "      <td>507</td>\n",
       "      <td>112009</td>\n",
       "      <td>МСК Александры Монаховой 99</td>\n",
       "      <td>55.541027</td>\n",
       "      <td>37.491668</td>\n",
       "    </tr>\n",
       "    <tr>\n",
       "      <th>7</th>\n",
       "      <td>708</td>\n",
       "      <td>2023-04-24</td>\n",
       "      <td>507</td>\n",
       "      <td>5731</td>\n",
       "      <td>МСК Харьковская 2</td>\n",
       "      <td>55.587716</td>\n",
       "      <td>37.652759</td>\n",
       "    </tr>\n",
       "    <tr>\n",
       "      <th>8</th>\n",
       "      <td>52</td>\n",
       "      <td>2023-04-24</td>\n",
       "      <td>507</td>\n",
       "      <td>156980</td>\n",
       "      <td>МО Орехово-Зуево Карла Либкнехта 7</td>\n",
       "      <td>55.800630</td>\n",
       "      <td>38.975238</td>\n",
       "    </tr>\n",
       "    <tr>\n",
       "      <th>9</th>\n",
       "      <td>398</td>\n",
       "      <td>2023-04-24</td>\n",
       "      <td>507</td>\n",
       "      <td>108673</td>\n",
       "      <td>Балашиха Свердлова 16/5</td>\n",
       "      <td>55.821880</td>\n",
       "      <td>37.969703</td>\n",
       "    </tr>\n",
       "  </tbody>\n",
       "</table>\n",
       "</div>"
      ],
      "text/plain": [
       "   count         max  max.1  dst_office_id  \\\n",
       "0    379  2023-04-24    507         105643   \n",
       "1    249  2023-04-24    507         133447   \n",
       "2    345  2023-04-24    507         110999   \n",
       "3    591  2023-04-24    507           5807   \n",
       "4    322  2023-04-24    507           3300   \n",
       "5    930  2023-04-24    507         106294   \n",
       "6    450  2023-04-24    507         112009   \n",
       "7    708  2023-04-24    507           5731   \n",
       "8     52  2023-04-24    507         156980   \n",
       "9    398  2023-04-24    507         108673   \n",
       "\n",
       "                          office_name   latitude  longitude  \n",
       "0              МО Одинцово Садовая 24  55.676228  37.248839  \n",
       "1                 МО Кашира Ленина 15  54.844701  38.191166  \n",
       "2          МО Одинцово Сколковская 1Б  55.694942  37.324654  \n",
       "3                  Подольск Победы 12  55.360190  37.512755  \n",
       "4       МО Свердловский Строителей 22  55.903330  38.155216  \n",
       "5              МСК Генерала Белова 29  55.614762  37.721023  \n",
       "6         МСК Александры Монаховой 99  55.541027  37.491668  \n",
       "7                   МСК Харьковская 2  55.587716  37.652759  \n",
       "8  МО Орехово-Зуево Карла Либкнехта 7  55.800630  38.975238  \n",
       "9             Балашиха Свердлова 16/5  55.821880  37.969703  "
      ]
     },
     "execution_count": 2,
     "metadata": {},
     "output_type": "execute_result"
    }
   ],
   "source": [
    "#чтение и сохранение данных, вывод первых 10 строк\n",
    "data = pd.read_csv('./wb_school_task_3.csv.gzip', compression='gzip')\n",
    "data.head(10)"
   ]
  },
  {
   "cell_type": "code",
   "execution_count": 3,
   "id": "475a0215",
   "metadata": {},
   "outputs": [
    {
     "name": "stdout",
     "output_type": "stream",
     "text": [
      "<class 'pandas.core.frame.DataFrame'>\n",
      "RangeIndex: 1800 entries, 0 to 1799\n",
      "Data columns (total 7 columns):\n",
      " #   Column         Non-Null Count  Dtype  \n",
      "---  ------         --------------  -----  \n",
      " 0   count          1800 non-null   int64  \n",
      " 1   max            1800 non-null   object \n",
      " 2   max.1          1800 non-null   int64  \n",
      " 3   dst_office_id  1800 non-null   int64  \n",
      " 4   office_name    1800 non-null   object \n",
      " 5   latitude       1800 non-null   float64\n",
      " 6   longitude      1800 non-null   float64\n",
      "dtypes: float64(2), int64(3), object(2)\n",
      "memory usage: 98.6+ KB\n"
     ]
    }
   ],
   "source": [
    "#вывод информации о данных\n",
    "data.info()"
   ]
  },
  {
   "cell_type": "markdown",
   "id": "d0bc11af",
   "metadata": {},
   "source": [
    "Предоставленная таблица состоит из 7 столбцов:\n",
    "* `count` - количество товаров, которое необходимо доставить в данный ПВЗ, тип данных - int;\n",
    "* `max` - дата доставки (выгрузки данных), тип данных - object;\n",
    "* `max.1` - максимальная загрузка машины, тип данных - int;\n",
    "* `dst_office_id` - id ПВЗ, тип данных - int;\n",
    "* `office_name` -  адрес ПВЗ, тип данных - object;\n",
    "* `latitude` - широта, тип данных - float;\n",
    "* `longitude` - долгота, тип данных - float."
   ]
  },
  {
   "cell_type": "markdown",
   "id": "9c711d4e",
   "metadata": {},
   "source": [
    "В таблице 1800 записей, в каждом отдельном столбце также по 1800 записей, следовательно, пропуски отстутствуют. "
   ]
  },
  {
   "cell_type": "markdown",
   "id": "b099fa59",
   "metadata": {},
   "source": [
    "## Подготовка данных"
   ]
  },
  {
   "cell_type": "markdown",
   "id": "25d5ee9c",
   "metadata": {},
   "source": [
    "### Проверка на наличие дубликатов"
   ]
  },
  {
   "cell_type": "markdown",
   "id": "6d25484b",
   "metadata": {},
   "source": [
    "Проверим данные на наличие дубликатов."
   ]
  },
  {
   "cell_type": "code",
   "execution_count": 4,
   "id": "076d6aee",
   "metadata": {},
   "outputs": [
    {
     "data": {
      "text/plain": [
       "0"
      ]
     },
     "execution_count": 4,
     "metadata": {},
     "output_type": "execute_result"
    }
   ],
   "source": [
    "#вывод количества дубликатов в таблице\n",
    "data.duplicated().sum()"
   ]
  },
  {
   "cell_type": "markdown",
   "id": "22596bac",
   "metadata": {},
   "source": [
    "Дубликаты в таблице отсутствуют."
   ]
  },
  {
   "cell_type": "markdown",
   "id": "87bc462e",
   "metadata": {},
   "source": [
    "### Удаление неинформативных данных"
   ]
  },
  {
   "cell_type": "markdown",
   "id": "fd6efd60",
   "metadata": {},
   "source": [
    "Удалим из таблицы все признаки, которые не будут являться информативными при решении задачи - `max`, `dst_office_id` и `office_name`."
   ]
  },
  {
   "cell_type": "code",
   "execution_count": 5,
   "id": "53bce606",
   "metadata": {
    "scrolled": true
   },
   "outputs": [],
   "source": [
    "#удаление столбцов max, dst_office_id и office_name\n",
    "data = data.drop(['max', 'dst_office_id', 'office_name'], axis=1)"
   ]
  },
  {
   "cell_type": "markdown",
   "id": "df51f0e5",
   "metadata": {},
   "source": [
    "### Переименование столбцов"
   ]
  },
  {
   "cell_type": "markdown",
   "id": "e6e40dd9",
   "metadata": {},
   "source": [
    "Переименуем столбец со значением максимально возможной загрузки машины из `max.1` в `max`."
   ]
  },
  {
   "cell_type": "code",
   "execution_count": 6,
   "id": "8f5b56cd",
   "metadata": {},
   "outputs": [
    {
     "data": {
      "text/html": [
       "<div>\n",
       "<style scoped>\n",
       "    .dataframe tbody tr th:only-of-type {\n",
       "        vertical-align: middle;\n",
       "    }\n",
       "\n",
       "    .dataframe tbody tr th {\n",
       "        vertical-align: top;\n",
       "    }\n",
       "\n",
       "    .dataframe thead th {\n",
       "        text-align: right;\n",
       "    }\n",
       "</style>\n",
       "<table border=\"1\" class=\"dataframe\">\n",
       "  <thead>\n",
       "    <tr style=\"text-align: right;\">\n",
       "      <th></th>\n",
       "      <th>count</th>\n",
       "      <th>max</th>\n",
       "      <th>latitude</th>\n",
       "      <th>longitude</th>\n",
       "    </tr>\n",
       "  </thead>\n",
       "  <tbody>\n",
       "    <tr>\n",
       "      <th>0</th>\n",
       "      <td>379</td>\n",
       "      <td>507</td>\n",
       "      <td>55.676228</td>\n",
       "      <td>37.248839</td>\n",
       "    </tr>\n",
       "    <tr>\n",
       "      <th>1</th>\n",
       "      <td>249</td>\n",
       "      <td>507</td>\n",
       "      <td>54.844701</td>\n",
       "      <td>38.191166</td>\n",
       "    </tr>\n",
       "    <tr>\n",
       "      <th>2</th>\n",
       "      <td>345</td>\n",
       "      <td>507</td>\n",
       "      <td>55.694942</td>\n",
       "      <td>37.324654</td>\n",
       "    </tr>\n",
       "    <tr>\n",
       "      <th>3</th>\n",
       "      <td>591</td>\n",
       "      <td>507</td>\n",
       "      <td>55.360190</td>\n",
       "      <td>37.512755</td>\n",
       "    </tr>\n",
       "    <tr>\n",
       "      <th>4</th>\n",
       "      <td>322</td>\n",
       "      <td>507</td>\n",
       "      <td>55.903330</td>\n",
       "      <td>38.155216</td>\n",
       "    </tr>\n",
       "  </tbody>\n",
       "</table>\n",
       "</div>"
      ],
      "text/plain": [
       "   count  max   latitude  longitude\n",
       "0    379  507  55.676228  37.248839\n",
       "1    249  507  54.844701  38.191166\n",
       "2    345  507  55.694942  37.324654\n",
       "3    591  507  55.360190  37.512755\n",
       "4    322  507  55.903330  38.155216"
      ]
     },
     "execution_count": 6,
     "metadata": {},
     "output_type": "execute_result"
    }
   ],
   "source": [
    "#переименование столбца max.1 в max\n",
    "data = data.rename(columns={'max.1': 'max'})\n",
    "data.head()"
   ]
  },
  {
   "cell_type": "markdown",
   "id": "777cd952",
   "metadata": {},
   "source": [
    "## Исследовательский анализ данных"
   ]
  },
  {
   "cell_type": "markdown",
   "id": "2b6223af",
   "metadata": {},
   "source": [
    "Посмотрим на описательную статистику данных."
   ]
  },
  {
   "cell_type": "code",
   "execution_count": 7,
   "id": "801b727d",
   "metadata": {},
   "outputs": [
    {
     "data": {
      "text/html": [
       "<div>\n",
       "<style scoped>\n",
       "    .dataframe tbody tr th:only-of-type {\n",
       "        vertical-align: middle;\n",
       "    }\n",
       "\n",
       "    .dataframe tbody tr th {\n",
       "        vertical-align: top;\n",
       "    }\n",
       "\n",
       "    .dataframe thead th {\n",
       "        text-align: right;\n",
       "    }\n",
       "</style>\n",
       "<table border=\"1\" class=\"dataframe\">\n",
       "  <thead>\n",
       "    <tr style=\"text-align: right;\">\n",
       "      <th></th>\n",
       "      <th>count</th>\n",
       "      <th>max</th>\n",
       "      <th>latitude</th>\n",
       "      <th>longitude</th>\n",
       "    </tr>\n",
       "  </thead>\n",
       "  <tbody>\n",
       "    <tr>\n",
       "      <th>count</th>\n",
       "      <td>1800.000000</td>\n",
       "      <td>1800.0</td>\n",
       "      <td>1800.000000</td>\n",
       "      <td>1800.000000</td>\n",
       "    </tr>\n",
       "    <tr>\n",
       "      <th>mean</th>\n",
       "      <td>485.050000</td>\n",
       "      <td>507.0</td>\n",
       "      <td>55.726075</td>\n",
       "      <td>37.678796</td>\n",
       "    </tr>\n",
       "    <tr>\n",
       "      <th>std</th>\n",
       "      <td>242.537271</td>\n",
       "      <td>0.0</td>\n",
       "      <td>0.271906</td>\n",
       "      <td>0.447394</td>\n",
       "    </tr>\n",
       "    <tr>\n",
       "      <th>min</th>\n",
       "      <td>3.000000</td>\n",
       "      <td>507.0</td>\n",
       "      <td>54.463403</td>\n",
       "      <td>35.507735</td>\n",
       "    </tr>\n",
       "    <tr>\n",
       "      <th>25%</th>\n",
       "      <td>309.000000</td>\n",
       "      <td>507.0</td>\n",
       "      <td>55.624623</td>\n",
       "      <td>37.468130</td>\n",
       "    </tr>\n",
       "    <tr>\n",
       "      <th>50%</th>\n",
       "      <td>455.500000</td>\n",
       "      <td>507.0</td>\n",
       "      <td>55.744627</td>\n",
       "      <td>37.614515</td>\n",
       "    </tr>\n",
       "    <tr>\n",
       "      <th>75%</th>\n",
       "      <td>626.000000</td>\n",
       "      <td>507.0</td>\n",
       "      <td>55.864669</td>\n",
       "      <td>37.854267</td>\n",
       "    </tr>\n",
       "    <tr>\n",
       "      <th>max</th>\n",
       "      <td>1981.000000</td>\n",
       "      <td>507.0</td>\n",
       "      <td>56.762163</td>\n",
       "      <td>39.876429</td>\n",
       "    </tr>\n",
       "  </tbody>\n",
       "</table>\n",
       "</div>"
      ],
      "text/plain": [
       "             count     max     latitude    longitude\n",
       "count  1800.000000  1800.0  1800.000000  1800.000000\n",
       "mean    485.050000   507.0    55.726075    37.678796\n",
       "std     242.537271     0.0     0.271906     0.447394\n",
       "min       3.000000   507.0    54.463403    35.507735\n",
       "25%     309.000000   507.0    55.624623    37.468130\n",
       "50%     455.500000   507.0    55.744627    37.614515\n",
       "75%     626.000000   507.0    55.864669    37.854267\n",
       "max    1981.000000   507.0    56.762163    39.876429"
      ]
     },
     "execution_count": 7,
     "metadata": {},
     "output_type": "execute_result"
    }
   ],
   "source": [
    "data.describe()"
   ]
  },
  {
   "cell_type": "markdown",
   "id": "58ad04db",
   "metadata": {},
   "source": [
    "Можно заметить, что значения максимальной загрузки машин не меняется для всех ПВЗ, а также что значения широты и долготы не сильно разбросаны и выглядят вполне правдоподобно. Значения столбца с количеством товара для ПВЗ нужно проверить на наличие выбросов. "
   ]
  },
  {
   "cell_type": "markdown",
   "id": "9935453d",
   "metadata": {},
   "source": [
    "Посмотрим, как распределены значения в столбце `count`."
   ]
  },
  {
   "cell_type": "code",
   "execution_count": 8,
   "id": "9422836e",
   "metadata": {
    "scrolled": true
   },
   "outputs": [
    {
     "data": {
      "image/png": "[encoded data removed]",
      "text/plain": [
       "<Figure size 432x288 with 1 Axes>"
      ]
     },
     "metadata": {
      "needs_background": "light"
     },
     "output_type": "display_data"
    }
   ],
   "source": [
    "#строим гистограмму для столбца count\n",
    "ax = data.plot(kind='hist', \n",
    "               y='count',\n",
    "               bins=20, \n",
    "               title='Количество товаров, которые нужно доставить в ПВЗ',\n",
    "               grid=True)\n",
    "ax.set(xlabel='Кол-во товаров', ylabel='Кол-во ПВЗ');"
   ]
  },
  {
   "cell_type": "markdown",
   "id": "733abac5",
   "metadata": {},
   "source": [
    "Значения распределены нормально, можно заметить, что присутствуют несколько аномальных значений. Проверим столбец `count` на наличие выбросов, построим диаграмму размаха."
   ]
  },
  {
   "cell_type": "code",
   "execution_count": 9,
   "id": "fd7f90b2",
   "metadata": {},
   "outputs": [
    {
     "data": {
      "image/png": "[encoded data removed]",
      "text/plain": [
       "<Figure size 432x288 with 1 Axes>"
      ]
     },
     "metadata": {
      "needs_background": "light"
     },
     "output_type": "display_data"
    }
   ],
   "source": [
    "#строим диаграмму размаха для столбца count\n",
    "data.boxplot('count');"
   ]
  },
  {
   "cell_type": "markdown",
   "id": "95a86e5d",
   "metadata": {},
   "source": [
    "По диаграмме размаха также можно заметить некоторое количество выбросов, самое большое значение из них - около 2000, при этом медианное значение около 450. Эти значения вряд ли стоит удалять, потому что они не похожи на результат ошибки при вводе данных, и потому что они не должны существенно повлиять на решение задачи (в какой-то ПВЗ машина заедет на один-два раза больше, чем в другие)."
   ]
  },
  {
   "cell_type": "code",
   "execution_count": null,
   "id": "0265548f",
   "metadata": {},
   "outputs": [],
   "source": []
  }
 ],
 "metadata": {
  "kernelspec": {
   "display_name": "Python 3 (ipykernel)",
   "language": "python",
   "name": "python3"
  },
  "language_info": {
   "codemirror_mode": {
    "name": "ipython",
    "version": 3
   },
   "file_extension": ".py",
   "mimetype": "text/x-python",
   "name": "python",
   "nbconvert_exporter": "python",
   "pygments_lexer": "ipython3",
   "version": "3.9.12"
  }
 },
 "nbformat": 4,
 "nbformat_minor": 5
}
